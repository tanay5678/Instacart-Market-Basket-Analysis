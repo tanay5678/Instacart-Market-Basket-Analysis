{
 "cells": [
  {
   "cell_type": "code",
   "execution_count": 1,
   "metadata": {
    "_cell_guid": "762c42a8-fa75-d6dc-815d-f70729f8f898"
   },
   "outputs": [],
   "source": [
    "import numpy as np\n",
    "import pandas as pd\n",
    "import xgboost as xgb\n",
    "import matplotlib.pyplot as plt\n",
    "from datetime import datetime\n",
    "import warnings\n",
    "import pickle\n",
    "warnings.filterwarnings('ignore')"
   ]
  },
  {
   "cell_type": "code",
   "execution_count": 2,
   "metadata": {},
   "outputs": [
    {
     "name": "stdout",
     "output_type": "stream",
     "text": [
      "Archive:  ../input/instacart-market-basket-analysis/order_products__prior.csv.zip\n",
      "  inflating: order_products__prior.csv  \n",
      "   creating: __MACOSX/\n",
      "  inflating: __MACOSX/._order_products__prior.csv  \n",
      "Archive:  ../input/instacart-market-basket-analysis/order_products__train.csv.zip\n",
      "  inflating: order_products__train.csv  \n",
      "  inflating: __MACOSX/._order_products__train.csv  \n",
      "Archive:  ../input/instacart-market-basket-analysis/orders.csv.zip\n",
      "  inflating: orders.csv              \n",
      "  inflating: __MACOSX/._orders.csv   \n",
      "Archive:  ../input/instacart-market-basket-analysis/products.csv.zip\n",
      "  inflating: products.csv            \n",
      "  inflating: __MACOSX/._products.csv  \n",
      "Archive:  ../input/instacart-market-basket-analysis/sample_submission.csv.zip\n",
      "  inflating: sample_submission.csv   \n"
     ]
    }
   ],
   "source": [
    "!unzip ../input/instacart-market-basket-analysis/order_products__prior.csv.zip \n",
    "!unzip ../input/instacart-market-basket-analysis/order_products__train.csv.zip\n",
    "!unzip ../input/instacart-market-basket-analysis/orders.csv.zip\n",
    "!unzip ../input/instacart-market-basket-analysis/products.csv.zip\n",
    "!unzip ../input/instacart-market-basket-analysis/sample_submission.csv.zip"
   ]
  },
  {
   "cell_type": "code",
   "execution_count": 2,
   "metadata": {
    "_cell_guid": "0bd76b15-214b-5edb-3a82-468cdbb9126b"
   },
   "outputs": [],
   "source": [
    "prior = pd.read_csv(\"Data/order_products__prior.csv/order_products__prior.csv\")\n",
    "orders = pd.read_csv(\"Data/orders.csv/orders.csv\", usecols=[\"order_id\",\"user_id\",\"order_number\"])"
   ]
  },
  {
   "cell_type": "markdown",
   "metadata": {
    "_cell_guid": "877bceaf-985d-49bc-6d3b-5c6ad7828a41"
   },
   "source": [
    "## USER'S LATEST PURCHASE"
   ]
  },
  {
   "cell_type": "code",
   "execution_count": 1,
   "metadata": {
    "_cell_guid": "1f5a2d50-e0d7-2c52-b26c-b147a62a770f",
    "collapsed": true
   },
   "outputs": [
    {
     "ename": "NameError",
     "evalue": "name 'pd' is not defined",
     "output_type": "error",
     "traceback": [
      "\u001b[0;31m---------------------------------------------------------------------------\u001b[0m",
      "\u001b[0;31mNameError\u001b[0m                                 Traceback (most recent call last)",
      "\u001b[0;32m<ipython-input-1-7e6e6d78df67>\u001b[0m in \u001b[0;36m<module>\u001b[0;34m\u001b[0m\n\u001b[0;32m----> 1\u001b[0;31m \u001b[0mprior_order\u001b[0m \u001b[0;34m=\u001b[0m \u001b[0mpd\u001b[0m\u001b[0;34m.\u001b[0m\u001b[0mmerge\u001b[0m\u001b[0;34m(\u001b[0m\u001b[0mprior\u001b[0m\u001b[0;34m,\u001b[0m\u001b[0morders\u001b[0m\u001b[0;34m,\u001b[0m \u001b[0mhow\u001b[0m\u001b[0;34m=\u001b[0m\u001b[0;34m\"inner\"\u001b[0m\u001b[0;34m,\u001b[0m \u001b[0mon\u001b[0m\u001b[0;34m=\u001b[0m\u001b[0;34m\"order_id\"\u001b[0m\u001b[0;34m)\u001b[0m\u001b[0;34m\u001b[0m\u001b[0;34m\u001b[0m\u001b[0m\n\u001b[0m\u001b[1;32m      2\u001b[0m \u001b[0;34m\u001b[0m\u001b[0m\n\u001b[1;32m      3\u001b[0m \u001b[0mlatest\u001b[0m \u001b[0;34m=\u001b[0m \u001b[0mprior_order\u001b[0m\u001b[0;34m.\u001b[0m\u001b[0mgroupby\u001b[0m\u001b[0;34m(\u001b[0m\u001b[0;34m\"user_id\"\u001b[0m\u001b[0;34m)\u001b[0m\u001b[0;34m[\u001b[0m\u001b[0;34m\"order_number\"\u001b[0m\u001b[0;34m]\u001b[0m\u001b[0;34m.\u001b[0m\u001b[0maggregate\u001b[0m\u001b[0;34m(\u001b[0m\u001b[0;34m\"max\"\u001b[0m\u001b[0;34m)\u001b[0m\u001b[0;34m.\u001b[0m\u001b[0mreset_index\u001b[0m\u001b[0;34m(\u001b[0m\u001b[0;34m)\u001b[0m\u001b[0;34m\u001b[0m\u001b[0;34m\u001b[0m\u001b[0m\n\u001b[1;32m      4\u001b[0m \u001b[0;34m\u001b[0m\u001b[0m\n\u001b[1;32m      5\u001b[0m \u001b[0mprior_latest\u001b[0m \u001b[0;34m=\u001b[0m \u001b[0mpd\u001b[0m\u001b[0;34m.\u001b[0m\u001b[0mmerge\u001b[0m\u001b[0;34m(\u001b[0m\u001b[0mprior_order\u001b[0m\u001b[0;34m,\u001b[0m \u001b[0mlatest\u001b[0m\u001b[0;34m,\u001b[0m \u001b[0mhow\u001b[0m\u001b[0;34m=\u001b[0m\u001b[0;34m\"inner\"\u001b[0m\u001b[0;34m,\u001b[0m \u001b[0mon\u001b[0m\u001b[0;34m=\u001b[0m\u001b[0;34m[\u001b[0m\u001b[0;34m\"user_id\"\u001b[0m\u001b[0;34m,\u001b[0m \u001b[0;34m\"order_number\"\u001b[0m\u001b[0;34m]\u001b[0m\u001b[0;34m)\u001b[0m\u001b[0;34m\u001b[0m\u001b[0;34m\u001b[0m\u001b[0m\n",
      "\u001b[0;31mNameError\u001b[0m: name 'pd' is not defined"
     ]
    }
   ],
   "source": [
    "prior_order = pd.merge(prior,orders, how=\"inner\", on=\"order_id\")\n",
    "\n",
    "latest = prior_order.groupby(\"user_id\")[\"order_number\"].aggregate(\"max\").reset_index()\n",
    "\n",
    "prior_latest = pd.merge(prior_order, latest, how=\"inner\", on=[\"user_id\", \"order_number\"])\n",
    "\n",
    "prior_latest = prior_latest[[\"user_id\", \"product_id\", \"reordered\"]]\n",
    "\n",
    "prior_latest.columns = [\"user_id\", \"product_id\", \"usr_latest\"]"
   ]
  },
  {
   "cell_type": "markdown",
   "metadata": {},
   "source": [
    "## USER X PRODUCTS"
   ]
  },
  {
   "cell_type": "code",
   "execution_count": 5,
   "metadata": {},
   "outputs": [
    {
     "data": {
      "text/html": [
       "<div>\n",
       "<style scoped>\n",
       "    .dataframe tbody tr th:only-of-type {\n",
       "        vertical-align: middle;\n",
       "    }\n",
       "\n",
       "    .dataframe tbody tr th {\n",
       "        vertical-align: top;\n",
       "    }\n",
       "\n",
       "    .dataframe thead th {\n",
       "        text-align: right;\n",
       "    }\n",
       "</style>\n",
       "<table border=\"1\" class=\"dataframe\">\n",
       "  <thead>\n",
       "    <tr style=\"text-align: right;\">\n",
       "      <th></th>\n",
       "      <th>user_id</th>\n",
       "      <th>product_id</th>\n",
       "      <th>usr_prd_count</th>\n",
       "      <th>usr_prd_sum</th>\n",
       "      <th>usr_latest</th>\n",
       "    </tr>\n",
       "  </thead>\n",
       "  <tbody>\n",
       "    <tr>\n",
       "      <th>0</th>\n",
       "      <td>1</td>\n",
       "      <td>196</td>\n",
       "      <td>10</td>\n",
       "      <td>9</td>\n",
       "      <td>1.0</td>\n",
       "    </tr>\n",
       "    <tr>\n",
       "      <th>1</th>\n",
       "      <td>1</td>\n",
       "      <td>10258</td>\n",
       "      <td>9</td>\n",
       "      <td>8</td>\n",
       "      <td>1.0</td>\n",
       "    </tr>\n",
       "    <tr>\n",
       "      <th>2</th>\n",
       "      <td>1</td>\n",
       "      <td>10326</td>\n",
       "      <td>1</td>\n",
       "      <td>0</td>\n",
       "      <td>NaN</td>\n",
       "    </tr>\n",
       "    <tr>\n",
       "      <th>3</th>\n",
       "      <td>1</td>\n",
       "      <td>12427</td>\n",
       "      <td>10</td>\n",
       "      <td>9</td>\n",
       "      <td>1.0</td>\n",
       "    </tr>\n",
       "    <tr>\n",
       "      <th>4</th>\n",
       "      <td>1</td>\n",
       "      <td>13032</td>\n",
       "      <td>3</td>\n",
       "      <td>2</td>\n",
       "      <td>1.0</td>\n",
       "    </tr>\n",
       "  </tbody>\n",
       "</table>\n",
       "</div>"
      ],
      "text/plain": [
       "   user_id  product_id  usr_prd_count  usr_prd_sum  usr_latest\n",
       "0        1         196             10            9         1.0\n",
       "1        1       10258              9            8         1.0\n",
       "2        1       10326              1            0         NaN\n",
       "3        1       12427             10            9         1.0\n",
       "4        1       13032              3            2         1.0"
      ]
     },
     "execution_count": 5,
     "metadata": {},
     "output_type": "execute_result"
    }
   ],
   "source": [
    "up = prior_order.groupby([\"user_id\",\"product_id\"])[\"reordered\"].aggregate([\"count\", \"sum\"]).reset_index()\n",
    "\n",
    "up.columns = [\"user_id\", \"product_id\", \"usr_prd_count\", \"usr_prd_sum\"]\n",
    "\n",
    "prior_order = pd.merge(up, prior_latest, how=\"left\", on=[\"user_id\",\"product_id\"])\n",
    "\n",
    "prior_order.head()"
   ]
  },
  {
   "cell_type": "markdown",
   "metadata": {},
   "source": [
    "## USER REORDER RATE"
   ]
  },
  {
   "cell_type": "code",
   "execution_count": 22,
   "metadata": {},
   "outputs": [],
   "source": [
    "## Not including this feature because it Decreasing the score of the model."
   ]
  },
  {
   "cell_type": "code",
   "execution_count": 5,
   "metadata": {},
   "outputs": [
    {
     "data": {
      "text/html": [
       "<div>\n",
       "<style scoped>\n",
       "    .dataframe tbody tr th:only-of-type {\n",
       "        vertical-align: middle;\n",
       "    }\n",
       "\n",
       "    .dataframe tbody tr th {\n",
       "        vertical-align: top;\n",
       "    }\n",
       "\n",
       "    .dataframe thead th {\n",
       "        text-align: right;\n",
       "    }\n",
       "</style>\n",
       "<table border=\"1\" class=\"dataframe\">\n",
       "  <thead>\n",
       "    <tr style=\"text-align: right;\">\n",
       "      <th></th>\n",
       "      <th>user_id</th>\n",
       "      <th>product_id</th>\n",
       "      <th>usr_prd_count</th>\n",
       "      <th>usr_prd_sum</th>\n",
       "      <th>usr_latest</th>\n",
       "      <th>reorder_rate</th>\n",
       "    </tr>\n",
       "  </thead>\n",
       "  <tbody>\n",
       "    <tr>\n",
       "      <th>0</th>\n",
       "      <td>1</td>\n",
       "      <td>196</td>\n",
       "      <td>10</td>\n",
       "      <td>9</td>\n",
       "      <td>1.0</td>\n",
       "      <td>0.900000</td>\n",
       "    </tr>\n",
       "    <tr>\n",
       "      <th>1</th>\n",
       "      <td>1</td>\n",
       "      <td>10258</td>\n",
       "      <td>9</td>\n",
       "      <td>8</td>\n",
       "      <td>1.0</td>\n",
       "      <td>0.888889</td>\n",
       "    </tr>\n",
       "    <tr>\n",
       "      <th>2</th>\n",
       "      <td>1</td>\n",
       "      <td>10326</td>\n",
       "      <td>1</td>\n",
       "      <td>0</td>\n",
       "      <td>NaN</td>\n",
       "      <td>0.000000</td>\n",
       "    </tr>\n",
       "    <tr>\n",
       "      <th>3</th>\n",
       "      <td>1</td>\n",
       "      <td>12427</td>\n",
       "      <td>10</td>\n",
       "      <td>9</td>\n",
       "      <td>1.0</td>\n",
       "      <td>0.900000</td>\n",
       "    </tr>\n",
       "    <tr>\n",
       "      <th>4</th>\n",
       "      <td>1</td>\n",
       "      <td>13032</td>\n",
       "      <td>3</td>\n",
       "      <td>2</td>\n",
       "      <td>1.0</td>\n",
       "      <td>0.666667</td>\n",
       "    </tr>\n",
       "  </tbody>\n",
       "</table>\n",
       "</div>"
      ],
      "text/plain": [
       "   user_id  product_id  usr_prd_count  usr_prd_sum  usr_latest  reorder_rate\n",
       "0        1         196             10            9         1.0      0.900000\n",
       "1        1       10258              9            8         1.0      0.888889\n",
       "2        1       10326              1            0         NaN      0.000000\n",
       "3        1       12427             10            9         1.0      0.900000\n",
       "4        1       13032              3            2         1.0      0.666667"
      ]
     },
     "execution_count": 5,
     "metadata": {},
     "output_type": "execute_result"
    }
   ],
   "source": [
    "# prior_order['reorder_rate'] = prior_order['usr_prd_sum'] / prior_order['usr_prd_count']\n",
    "\n",
    "# prior_order.head()"
   ]
  },
  {
   "cell_type": "code",
   "execution_count": 2,
   "metadata": {
    "collapsed": true
   },
   "outputs": [
    {
     "ename": "NameError",
     "evalue": "name 'prior_order' is not defined",
     "output_type": "error",
     "traceback": [
      "\u001b[0;31m---------------------------------------------------------------------------\u001b[0m",
      "\u001b[0;31mNameError\u001b[0m                                 Traceback (most recent call last)",
      "\u001b[0;32m<ipython-input-2-e390bd98a61a>\u001b[0m in \u001b[0;36m<module>\u001b[0;34m\u001b[0m\n\u001b[0;32m----> 1\u001b[0;31m \u001b[0mprior_order\u001b[0m\u001b[0;34m.\u001b[0m\u001b[0mto_pickle\u001b[0m\u001b[0;34m(\u001b[0m\u001b[0;34m'prior_final.pkl'\u001b[0m\u001b[0;34m)\u001b[0m\u001b[0;34m\u001b[0m\u001b[0;34m\u001b[0m\u001b[0m\n\u001b[0m",
      "\u001b[0;31mNameError\u001b[0m: name 'prior_order' is not defined"
     ]
    }
   ],
   "source": [
    "prior_order.to_pickle('prior_final.pkl')"
   ]
  },
  {
   "cell_type": "code",
   "execution_count": 3,
   "metadata": {},
   "outputs": [],
   "source": [
    "prior_order = pd.read_pickle('prior_final.pkl')"
   ]
  },
  {
   "cell_type": "code",
   "execution_count": 6,
   "metadata": {
    "_cell_guid": "8d590c6a-a573-fe56-7ba1-c233deb76555"
   },
   "outputs": [],
   "source": [
    "orders.drop([\"order_number\"],axis=1,inplace=True)\n",
    "\n",
    "Train = pd.read_csv(\"Data/order_products__train.csv/order_products__train.csv\", usecols=[\"order_id\"])\n",
    "Train = Train.groupby(\"order_id\").aggregate(\"count\").reset_index()\n",
    "\n",
    "Test = pd.read_csv(\"Data/sample_submission.csv/sample_submission.csv\", usecols=[\"order_id\"])\n",
    "\n",
    "Train = pd.merge(Train, orders, how=\"inner\", on=\"order_id\")\n",
    "Test = pd.merge(Test, orders, how=\"inner\", on=\"order_id\")"
   ]
  },
  {
   "cell_type": "code",
   "execution_count": 7,
   "metadata": {
    "_cell_guid": "793028e8-90a5-a7f2-427d-046db698f838"
   },
   "outputs": [],
   "source": [
    "tr = pd.merge(Train, prior_order, how=\"inner\", on=\"user_id\")\n",
    "te = pd.merge(Test, prior_order, how=\"inner\", on=\"user_id\")"
   ]
  },
  {
   "cell_type": "code",
   "execution_count": 10,
   "metadata": {},
   "outputs": [],
   "source": [
    "del prior,prior_latest,prior_order"
   ]
  },
  {
   "cell_type": "code",
   "execution_count": 8,
   "metadata": {
    "_cell_guid": "45a63103-28bc-7e06-af7e-07773084c37e"
   },
   "outputs": [],
   "source": [
    "te_y = pd.read_csv(\"Data/order_products__train.csv/order_products__train.csv\", usecols=[\"order_id\", \"product_id\", \"reordered\"])\n",
    "\n",
    "te_y = pd.merge(te_y, orders, how=\"inner\", on=\"order_id\")\n",
    "te_y = te_y[[\"user_id\", \"product_id\", \"reordered\"]]\n",
    "\n",
    "\n",
    "tr = pd.merge(tr, te_y, how=\"left\", on=[\"user_id\", \"product_id\"])\n",
    "tr[\"reordered\"].fillna(0, inplace=True)\n",
    "del te_y"
   ]
  },
  {
   "cell_type": "code",
   "execution_count": 9,
   "metadata": {
    "_cell_guid": "02b5535e-2f86-32d2-7b71-3d1f91154aee"
   },
   "outputs": [],
   "source": [
    "y = tr.reordered.values\n",
    "\n",
    "sub_out = te[[\"order_id\", \"product_id\"]]\n",
    "\n",
    "\n",
    "tr_x = np.array(tr.drop([\"order_id\", \"user_id\", \"reordered\"], axis=1))\n",
    "te_x = np.array(te.drop([\"order_id\", \"user_id\"], axis=1))"
   ]
  },
  {
   "cell_type": "code",
   "execution_count": 10,
   "metadata": {},
   "outputs": [
    {
     "data": {
      "text/plain": [
       "array([[1.2830e+03, 1.0000e+00, 0.0000e+00,        nan],\n",
       "       [6.2910e+03, 1.0000e+00, 0.0000e+00,        nan],\n",
       "       [7.0350e+03, 1.0000e+00, 0.0000e+00,        nan],\n",
       "       ...,\n",
       "       [4.7226e+04, 1.0000e+00, 0.0000e+00,        nan],\n",
       "       [4.8790e+04, 2.0000e+00, 1.0000e+00,        nan],\n",
       "       [4.8808e+04, 1.0000e+00, 0.0000e+00,        nan]])"
      ]
     },
     "execution_count": 10,
     "metadata": {},
     "output_type": "execute_result"
    }
   ],
   "source": []
  },
  {
   "cell_type": "code",
   "execution_count": 14,
   "metadata": {
    "_cell_guid": "82d3fef4-ba00-5b91-4a91-5bfc446210cc"
   },
   "outputs": [
    {
     "name": "stdout",
     "output_type": "stream",
     "text": [
      "[09:34:42] WARNING: ../src/learner.cc:516: \n",
      "Parameters: { silent } might not be used.\n",
      "\n",
      "  This may not be accurate due to some parameters are only used in language bindings but\n",
      "  passed down to XGBoost core.  Or some parameters are not used but slip through this\n",
      "  verification. Please open an issue if you find above cases.\n",
      "\n",
      "\n",
      "[09:34:43] WARNING: ../src/gbm/gbtree.cc:139: Tree method is automatically selected to be 'approx' for faster speed. To use old behavior (exact greedy algorithm on single machine), set tree_method to 'exact'.\n",
      "Time Taken: 0:06:37.109964\n"
     ]
    }
   ],
   "source": [
    "start = datetime.now()\n",
    "params = {}\n",
    "params[\"objective\"] = \"binary:logistic\"\n",
    "params['eval_metric'] = 'logloss'\n",
    "params[\"eta\"] = 0.05\n",
    "params[\"subsample\"] = 0.7\n",
    "params[\"min_child_weight\"] = 10\n",
    "params[\"colsample_bytree\"] = 0.7\n",
    "params[\"max_depth\"] = 8\n",
    "params[\"silent\"] = 1\n",
    "\n",
    "rounds = 100\n",
    "\n",
    "par = list(params.items())\n",
    "\n",
    "train = xgb.DMatrix(tr_x, label=y)\n",
    "\n",
    "model = xgb.train(par, train, rounds, verbose_eval=10)\n",
    "\n",
    "pickle.dump(model,open('xgboost.sav', 'wb'))\n",
    "\n",
    "test = xgb.DMatrix(te_x)\n",
    "\n",
    "prediction = model.predict(test)\n",
    "\n",
    "print(f'Time Taken: {datetime.now()-start}')"
   ]
  },
  {
   "cell_type": "code",
   "execution_count": null,
   "metadata": {},
   "outputs": [],
   "source": [
    "model = pickle.load(open('xgboost.sav', 'rb'))"
   ]
  },
  {
   "cell_type": "code",
   "execution_count": 17,
   "metadata": {
    "_cell_guid": "29cb3185-abd7-4f43-37d2-d58f1ce20639"
   },
   "outputs": [],
   "source": [
    "cutoff = 0.2\n",
    "prediction[prediction>=cutoff] = 1\n",
    "prediction[prediction<cutoff] = 0\n",
    "sub_out[\"Pred\"] = prediction"
   ]
  },
  {
   "cell_type": "code",
   "execution_count": 18,
   "metadata": {},
   "outputs": [
    {
     "data": {
      "text/html": [
       "<div>\n",
       "<style scoped>\n",
       "    .dataframe tbody tr th:only-of-type {\n",
       "        vertical-align: middle;\n",
       "    }\n",
       "\n",
       "    .dataframe tbody tr th {\n",
       "        vertical-align: top;\n",
       "    }\n",
       "\n",
       "    .dataframe thead th {\n",
       "        text-align: right;\n",
       "    }\n",
       "</style>\n",
       "<table border=\"1\" class=\"dataframe\">\n",
       "  <thead>\n",
       "    <tr style=\"text-align: right;\">\n",
       "      <th></th>\n",
       "      <th>order_id</th>\n",
       "      <th>product_id</th>\n",
       "      <th>Pred</th>\n",
       "    </tr>\n",
       "  </thead>\n",
       "  <tbody>\n",
       "    <tr>\n",
       "      <th>4</th>\n",
       "      <td>17</td>\n",
       "      <td>13107</td>\n",
       "      <td>1.0</td>\n",
       "    </tr>\n",
       "    <tr>\n",
       "      <th>9</th>\n",
       "      <td>17</td>\n",
       "      <td>21463</td>\n",
       "      <td>1.0</td>\n",
       "    </tr>\n",
       "    <tr>\n",
       "      <th>23</th>\n",
       "      <td>34</td>\n",
       "      <td>2596</td>\n",
       "      <td>1.0</td>\n",
       "    </tr>\n",
       "    <tr>\n",
       "      <th>40</th>\n",
       "      <td>34</td>\n",
       "      <td>13176</td>\n",
       "      <td>1.0</td>\n",
       "    </tr>\n",
       "    <tr>\n",
       "      <th>41</th>\n",
       "      <td>34</td>\n",
       "      <td>16083</td>\n",
       "      <td>1.0</td>\n",
       "    </tr>\n",
       "    <tr>\n",
       "      <th>...</th>\n",
       "      <td>...</td>\n",
       "      <td>...</td>\n",
       "      <td>...</td>\n",
       "    </tr>\n",
       "    <tr>\n",
       "      <th>4833242</th>\n",
       "      <td>3421054</td>\n",
       "      <td>11123</td>\n",
       "      <td>1.0</td>\n",
       "    </tr>\n",
       "    <tr>\n",
       "      <th>4833245</th>\n",
       "      <td>3421054</td>\n",
       "      <td>13493</td>\n",
       "      <td>1.0</td>\n",
       "    </tr>\n",
       "    <tr>\n",
       "      <th>4833249</th>\n",
       "      <td>3421054</td>\n",
       "      <td>15802</td>\n",
       "      <td>1.0</td>\n",
       "    </tr>\n",
       "    <tr>\n",
       "      <th>4833251</th>\n",
       "      <td>3421054</td>\n",
       "      <td>18426</td>\n",
       "      <td>1.0</td>\n",
       "    </tr>\n",
       "    <tr>\n",
       "      <th>4833273</th>\n",
       "      <td>3421054</td>\n",
       "      <td>31231</td>\n",
       "      <td>1.0</td>\n",
       "    </tr>\n",
       "  </tbody>\n",
       "</table>\n",
       "<p>568456 rows × 3 columns</p>\n",
       "</div>"
      ],
      "text/plain": [
       "         order_id  product_id  Pred\n",
       "4              17       13107   1.0\n",
       "9              17       21463   1.0\n",
       "23             34        2596   1.0\n",
       "40             34       13176   1.0\n",
       "41             34       16083   1.0\n",
       "...           ...         ...   ...\n",
       "4833242   3421054       11123   1.0\n",
       "4833245   3421054       13493   1.0\n",
       "4833249   3421054       15802   1.0\n",
       "4833251   3421054       18426   1.0\n",
       "4833273   3421054       31231   1.0\n",
       "\n",
       "[568456 rows x 3 columns]"
      ]
     },
     "execution_count": 18,
     "metadata": {},
     "output_type": "execute_result"
    }
   ],
   "source": [
    "sub_out = sub_out[sub_out['Pred']==1]\n",
    "\n",
    "sub_out"
   ]
  },
  {
   "cell_type": "code",
   "execution_count": 19,
   "metadata": {
    "_cell_guid": "64a8484b-6df0-9ead-0616-2016cffca6c4"
   },
   "outputs": [],
   "source": [
    "def cmb_prd(x):\n",
    "    return \" \".join(list(x.astype('str')))"
   ]
  },
  {
   "cell_type": "code",
   "execution_count": 20,
   "metadata": {},
   "outputs": [],
   "source": [
    "sub_out = sub_out.groupby(\"order_id\")[\"product_id\"].aggregate(cmb_prd).reset_index()\n",
    "sub_out.columns = [\"order_id\", \"products\"]"
   ]
  },
  {
   "cell_type": "code",
   "execution_count": 19,
   "metadata": {
    "_cell_guid": "257f81f7-060b-4fd2-9baa-8df2a89b08ce"
   },
   "outputs": [],
   "source": [
    "submmission = pd.read_csv(\"Data/sample_submission.csv/sample_submission.csv\", usecols=[\"order_id\"])\n",
    "sub_df = pd.merge(submmission, sub_out, how=\"left\", on=\"order_id\")\n",
    "\n",
    "\n",
    "sub_df[\"products\"].fillna(\"None\", inplace=True)\n",
    "sub_df.to_csv(\"submission_2.csv\", index=False)"
   ]
  },
  {
   "cell_type": "code",
   "execution_count": 21,
   "metadata": {},
   "outputs": [
    {
     "data": {
      "text/html": [
       "<div>\n",
       "<style scoped>\n",
       "    .dataframe tbody tr th:only-of-type {\n",
       "        vertical-align: middle;\n",
       "    }\n",
       "\n",
       "    .dataframe tbody tr th {\n",
       "        vertical-align: top;\n",
       "    }\n",
       "\n",
       "    .dataframe thead th {\n",
       "        text-align: right;\n",
       "    }\n",
       "</style>\n",
       "<table border=\"1\" class=\"dataframe\">\n",
       "  <thead>\n",
       "    <tr style=\"text-align: right;\">\n",
       "      <th></th>\n",
       "      <th>order_id</th>\n",
       "      <th>products</th>\n",
       "    </tr>\n",
       "  </thead>\n",
       "  <tbody>\n",
       "    <tr>\n",
       "      <th>0</th>\n",
       "      <td>17</td>\n",
       "      <td>13107 21463</td>\n",
       "    </tr>\n",
       "    <tr>\n",
       "      <th>1</th>\n",
       "      <td>34</td>\n",
       "      <td>2596 13176 16083 39180 39475 44663 47029 47766...</td>\n",
       "    </tr>\n",
       "    <tr>\n",
       "      <th>2</th>\n",
       "      <td>137</td>\n",
       "      <td>2326 5134 23794 24852 25890 29594 41787 44422</td>\n",
       "    </tr>\n",
       "    <tr>\n",
       "      <th>3</th>\n",
       "      <td>182</td>\n",
       "      <td>5479 9337 13629 21903 27104 32109 33000 35951 ...</td>\n",
       "    </tr>\n",
       "    <tr>\n",
       "      <th>4</th>\n",
       "      <td>257</td>\n",
       "      <td>24852 27104 27966 29837 30233 35734 37646 3947...</td>\n",
       "    </tr>\n",
       "    <tr>\n",
       "      <th>...</th>\n",
       "      <td>...</td>\n",
       "      <td>...</td>\n",
       "    </tr>\n",
       "    <tr>\n",
       "      <th>70177</th>\n",
       "      <td>3420740</td>\n",
       "      <td>1158 2314 8174 11777 12016 12597 13176 13877 1...</td>\n",
       "    </tr>\n",
       "    <tr>\n",
       "      <th>70178</th>\n",
       "      <td>3420877</td>\n",
       "      <td>3661 5161 6567 8277 12238 13176 13646 21137 21...</td>\n",
       "    </tr>\n",
       "    <tr>\n",
       "      <th>70179</th>\n",
       "      <td>3420888</td>\n",
       "      <td>10880 20542 35951 43961 44632 46906</td>\n",
       "    </tr>\n",
       "    <tr>\n",
       "      <th>70180</th>\n",
       "      <td>3420989</td>\n",
       "      <td>5134 21616 35004 42450 43210 46676 47229 47766</td>\n",
       "    </tr>\n",
       "    <tr>\n",
       "      <th>70181</th>\n",
       "      <td>3421054</td>\n",
       "      <td>11123 13493 15802 18426 31231</td>\n",
       "    </tr>\n",
       "  </tbody>\n",
       "</table>\n",
       "<p>70182 rows × 2 columns</p>\n",
       "</div>"
      ],
      "text/plain": [
       "       order_id                                           products\n",
       "0            17                                        13107 21463\n",
       "1            34  2596 13176 16083 39180 39475 44663 47029 47766...\n",
       "2           137      2326 5134 23794 24852 25890 29594 41787 44422\n",
       "3           182  5479 9337 13629 21903 27104 32109 33000 35951 ...\n",
       "4           257  24852 27104 27966 29837 30233 35734 37646 3947...\n",
       "...         ...                                                ...\n",
       "70177   3420740  1158 2314 8174 11777 12016 12597 13176 13877 1...\n",
       "70178   3420877  3661 5161 6567 8277 12238 13176 13646 21137 21...\n",
       "70179   3420888                10880 20542 35951 43961 44632 46906\n",
       "70180   3420989     5134 21616 35004 42450 43210 46676 47229 47766\n",
       "70181   3421054                      11123 13493 15802 18426 31231\n",
       "\n",
       "[70182 rows x 2 columns]"
      ]
     },
     "execution_count": 21,
     "metadata": {},
     "output_type": "execute_result"
    }
   ],
   "source": [
    "sub_out"
   ]
  },
  {
   "cell_type": "code",
   "execution_count": 21,
   "metadata": {},
   "outputs": [
    {
     "data": {
      "text/html": [
       "<div>\n",
       "<style scoped>\n",
       "    .dataframe tbody tr th:only-of-type {\n",
       "        vertical-align: middle;\n",
       "    }\n",
       "\n",
       "    .dataframe tbody tr th {\n",
       "        vertical-align: top;\n",
       "    }\n",
       "\n",
       "    .dataframe thead th {\n",
       "        text-align: right;\n",
       "    }\n",
       "</style>\n",
       "<table border=\"1\" class=\"dataframe\">\n",
       "  <thead>\n",
       "    <tr style=\"text-align: right;\">\n",
       "      <th></th>\n",
       "      <th>order_id</th>\n",
       "    </tr>\n",
       "  </thead>\n",
       "  <tbody>\n",
       "    <tr>\n",
       "      <th>0</th>\n",
       "      <td>17</td>\n",
       "    </tr>\n",
       "    <tr>\n",
       "      <th>1</th>\n",
       "      <td>34</td>\n",
       "    </tr>\n",
       "    <tr>\n",
       "      <th>2</th>\n",
       "      <td>137</td>\n",
       "    </tr>\n",
       "    <tr>\n",
       "      <th>3</th>\n",
       "      <td>182</td>\n",
       "    </tr>\n",
       "    <tr>\n",
       "      <th>4</th>\n",
       "      <td>257</td>\n",
       "    </tr>\n",
       "    <tr>\n",
       "      <th>...</th>\n",
       "      <td>...</td>\n",
       "    </tr>\n",
       "    <tr>\n",
       "      <th>74995</th>\n",
       "      <td>3420740</td>\n",
       "    </tr>\n",
       "    <tr>\n",
       "      <th>74996</th>\n",
       "      <td>3420877</td>\n",
       "    </tr>\n",
       "    <tr>\n",
       "      <th>74997</th>\n",
       "      <td>3420888</td>\n",
       "    </tr>\n",
       "    <tr>\n",
       "      <th>74998</th>\n",
       "      <td>3420989</td>\n",
       "    </tr>\n",
       "    <tr>\n",
       "      <th>74999</th>\n",
       "      <td>3421054</td>\n",
       "    </tr>\n",
       "  </tbody>\n",
       "</table>\n",
       "<p>75000 rows × 1 columns</p>\n",
       "</div>"
      ],
      "text/plain": [
       "       order_id\n",
       "0            17\n",
       "1            34\n",
       "2           137\n",
       "3           182\n",
       "4           257\n",
       "...         ...\n",
       "74995   3420740\n",
       "74996   3420877\n",
       "74997   3420888\n",
       "74998   3420989\n",
       "74999   3421054\n",
       "\n",
       "[75000 rows x 1 columns]"
      ]
     },
     "execution_count": 21,
     "metadata": {},
     "output_type": "execute_result"
    }
   ],
   "source": [
    "submmission"
   ]
  },
  {
   "cell_type": "markdown",
   "metadata": {},
   "source": [
    "## Observation : "
   ]
  },
  {
   "cell_type": "markdown",
   "metadata": {},
   "source": [
    "1. I have created several features in the start in different notebooks but the score was too less.\n",
    "\n",
    "\n",
    "2. I went through some notebooks and I found people are saying you don't need to create lot features. In most of the disussion most features about USER X PRODUCT, Recent Purchases.\n",
    "\n",
    "\n",
    "3. I created 3 features which are Recent Purchase,USER X Product Sum and count. This features enough to put me into top 300 rank\n",
    "\n",
    "\n",
    "4. I have not taken some features like time related features because of RAM limitation.\n",
    "\n",
    "\n",
    "5. I can compute more features to imporve the score but the dataframe gets big and I don't enough ram to experiment.\n",
    "\n",
    "\n",
    "6. I did not do any hyperparameter tuning in this notebook becuase it crashed my kernel because the data is too big for the system \n",
    "\n",
    "\n",
    "7. So I used XBoost as final model and it worked pretty well. I used XGBoost because in the first winner solution he used XGBoost as his final model.\n",
    "\n"
   ]
  },
  {
   "cell_type": "markdown",
   "metadata": {},
   "source": [
    "## Reference : \n"
   ]
  },
  {
   "cell_type": "markdown",
   "metadata": {},
   "source": [
    "1. https://www.kaggle.com/c/instacart-market-basket-analysis/discussion/34977\n",
    "\n",
    "2. https://www.kaggle.com/errolpereira/xgboost-with-minimal-feature-engineering#Creating-user-product-features."
   ]
  }
 ],
 "metadata": {
  "kernelspec": {
   "display_name": "Python 3",
   "language": "python",
   "name": "python3"
  },
  "language_info": {
   "codemirror_mode": {
    "name": "ipython",
    "version": 3
   },
   "file_extension": ".py",
   "mimetype": "text/x-python",
   "name": "python",
   "nbconvert_exporter": "python",
   "pygments_lexer": "ipython3",
   "version": "3.8.3"
  }
 },
 "nbformat": 4,
 "nbformat_minor": 4
}
