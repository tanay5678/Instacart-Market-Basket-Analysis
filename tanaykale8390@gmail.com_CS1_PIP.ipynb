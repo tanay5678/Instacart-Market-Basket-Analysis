{
 "cells": [
  {
   "cell_type": "code",
   "execution_count": 1,
   "metadata": {},
   "outputs": [],
   "source": [
    "import numpy as np\n",
    "import pandas as pd \n",
    "import xgboost as xgb \n",
    "import pickle\n",
    "from datetime import datetime\n",
    "\n",
    "import warnings\n",
    "\n",
    "warnings.filterwarnings('ignore')"
   ]
  },
  {
   "cell_type": "markdown",
   "metadata": {},
   "source": [
    "## Created Test data with it's actual reorder product"
   ]
  },
  {
   "cell_type": "code",
   "execution_count": 3,
   "metadata": {},
   "outputs": [],
   "source": [
    "## I used test data and find their actual reorder product and I will use this for test purpose.\n",
    "\n",
    "def cmb_prd(x):\n",
    "    return \" \".join(list(x.astype('str')))\n",
    "\n",
    "def actual_test_label():\n",
    "    test = pd.read_csv('Data/sample_submission.csv/sample_submission.csv',usecols=['order_id'])\n",
    "    orders = pd.read_csv('Data/orders.csv/orders.csv',usecols=['order_id','user_id'])\n",
    "\n",
    "    test = pd.merge(test,orders,on='order_id',how='inner')\n",
    "    del orders\n",
    "    \n",
    "    prior = pd.read_csv('Data/order_products__prior.csv/order_products__prior.csv',usecols=['order_id','reordered','product_id'])\n",
    "\n",
    "    orders = pd.read_csv('Data/orders.csv/orders.csv',usecols=['order_id','user_id'])\n",
    "\n",
    "    p_o = pd.merge(orders,prior,on='order_id',how='inner')\n",
    "\n",
    "    del prior,orders\n",
    "    \n",
    "    test = pd.merge(test,p_o,on='user_id',how='inner')\n",
    "    \n",
    "    del p_o\n",
    "    \n",
    "    test.drop(['order_id_y'],axis=1,inplace=True)\n",
    "\n",
    "    test.rename(columns={'order_id_x':'order_id'},inplace=True)\n",
    "    \n",
    "    test = test[test['reordered']==1]\n",
    "    \n",
    "    actual_label = test.groupby(\"order_id\")[\"product_id\"].aggregate(cmb_prd).reset_index()\n",
    "    actual_label.columns = [\"order_id\", \"actual_products\"]\n",
    "    \n",
    "    del test\n",
    "    \n",
    "    actual_label.to_pickle('test_data_label.pkl')\n",
    "    "
   ]
  },
  {
   "cell_type": "code",
   "execution_count": 4,
   "metadata": {},
   "outputs": [],
   "source": [
    "actual_test_label()"
   ]
  },
  {
   "cell_type": "markdown",
   "metadata": {},
   "source": [
    "### Fun1 for predicting the reorder product for given Order ID"
   ]
  },
  {
   "cell_type": "markdown",
   "metadata": {},
   "source": [
    "<ul><li>Here you can pass only one Order ID</li></ul>\n",
    "    "
   ]
  },
  {
   "cell_type": "code",
   "execution_count": 89,
   "metadata": {},
   "outputs": [],
   "source": [
    "def fun1(order_id):\n",
    "    \n",
    "    orders = pd.read_csv('Data/orders.csv/orders.csv',usecols=['order_id','user_id'])\n",
    "\n",
    "    actual_test_data = pd.read_pickle('test_data_label.pkl')\n",
    "    test = pd.merge(actual_test_data,orders,on='order_id',how='inner')\n",
    "\n",
    "    del orders\n",
    "    \n",
    "    feat_data = pd.read_pickle('prior_final.pkl')\n",
    "\n",
    "    test = pd.merge(test,feat_data,on='user_id',how='inner')\n",
    "\n",
    "    del feat_data,actual_test_data\n",
    "    \n",
    "    query = test[test['order_id']==order_id]\n",
    "    \n",
    "    query = query[['product_id','usr_prd_count','usr_prd_sum','usr_latest']]\n",
    "    \n",
    "    model = pickle.load(open('xgboost.sav','rb'))\n",
    "    \n",
    "    test_data = xgb.DMatrix(np.array(query))\n",
    "\n",
    "    pred = model.predict(test_data)\n",
    "    \n",
    "    \n",
    "    cutoff = 0.2\n",
    "    pred[pred>=cutoff] = 1\n",
    "    pred[pred<cutoff] = 0\n",
    "    query['pred'] = pred\n",
    "    \n",
    "    query = query[query['pred']==1]\n",
    "\n",
    "    prd = \" \".join(list(query['product_id'].astype('str')))\n",
    "    if len(prd)==0:\n",
    "        prd= None\n",
    "\n",
    "    final = pd.DataFrame({\n",
    "        'order_id':[order_id],\n",
    "        'pred':[prd]\n",
    "    })\n",
    "    \n",
    "    return final"
   ]
  },
  {
   "cell_type": "markdown",
   "metadata": {},
   "source": [
    "### Fun2 Print the F1-score for actual reorder basket and predicted reorder basket"
   ]
  },
  {
   "cell_type": "code",
   "execution_count": 131,
   "metadata": {},
   "outputs": [],
   "source": [
    "# https://www.kaggle.com/aikinogard/python-f1-score-function\n",
    "\n",
    "def fun2(inp):\n",
    "    \n",
    "    actual_test_data = pd.read_pickle('test_data_label.pkl')\n",
    "\n",
    "    actual = actual_test_data[actual_test_data['order_id']==inp]\n",
    "\n",
    "    if len(actual) == 0:\n",
    "        print('The Order ID does not exist')\n",
    "\n",
    "    pred = pred_ans[pred_ans['order_id']==inp]\n",
    "\n",
    "    a = actual['actual_products'].to_list()\n",
    "    a = a[0].split(' ')\n",
    "\n",
    "    b = pred['pred'].to_list()\n",
    "    b = b[0].split(' ')\n",
    "\n",
    "    y_true = set(a)\n",
    "    y_pred = set(b)\n",
    "\n",
    "    cross_size = len(y_true) & len(y_pred)\n",
    "    if cross_size == 0: \n",
    "        print('No products in the list')\n",
    "    else:\n",
    "        p = 1. * cross_size / len(y_pred)\n",
    "        r = 1. * cross_size / len(y_true)\n",
    "        print(f'The Mean F1 Score of this basket is :{round(2 * p * r / (p + r),3)}')"
   ]
  },
  {
   "cell_type": "code",
   "execution_count": 137,
   "metadata": {},
   "outputs": [
    {
     "name": "stdout",
     "output_type": "stream",
     "text": [
      "Enter the order_id: 137\n",
      "The Mean F1 Score of this basket is :0.762\n",
      "Time Taken:0:00:05.417720\n"
     ]
    }
   ],
   "source": [
    "start = datetime.now()\n",
    "\n",
    "inp = int(input('Enter the order_id: '))\n",
    "\n",
    "pred_ans = fun1(inp)\n",
    "\n",
    "fun2(inp)\n",
    "print(f'Time Taken:{datetime.now()-start}')"
   ]
  }
 ],
 "metadata": {
  "kernelspec": {
   "display_name": "Python 3",
   "language": "python",
   "name": "python3"
  },
  "language_info": {
   "codemirror_mode": {
    "name": "ipython",
    "version": 3
   },
   "file_extension": ".py",
   "mimetype": "text/x-python",
   "name": "python",
   "nbconvert_exporter": "python",
   "pygments_lexer": "ipython3",
   "version": "3.8.3"
  }
 },
 "nbformat": 4,
 "nbformat_minor": 4
}
